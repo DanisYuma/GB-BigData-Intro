{
 "cells": [
  {
   "cell_type": "code",
   "execution_count": 2,
   "id": "71c93dc9-4b5d-4d98-a30a-799acb8f341c",
   "metadata": {},
   "outputs": [],
   "source": [
    "from pyspark.sql import SparkSession"
   ]
  },
  {
   "cell_type": "code",
   "execution_count": 3,
   "id": "89e8d45d-f604-4571-affa-e97c3fd52640",
   "metadata": {},
   "outputs": [],
   "source": [
    "spark = SparkSession.builder.master(\"local[*]\").getOrCreate()"
   ]
  },
  {
   "cell_type": "code",
   "execution_count": 4,
   "id": "194910d6-5dae-4f2e-9a2c-baf58b9407f6",
   "metadata": {},
   "outputs": [
    {
     "name": "stdout",
     "output_type": "stream",
     "text": [
      "  % Total    % Received % Xferd  Average Speed   Time    Time     Time  Current\n",
      "                                 Dload  Upload   Total   Spent    Left  Speed\n",
      "100 30874  100 30874    0     0  14264      0  0:00:02  0:00:02 --:--:-- 14260\n"
     ]
    }
   ],
   "source": [
    "!curl -O https://storage.googleapis.com/tf-datasets/titanic/train.csv"
   ]
  },
  {
   "cell_type": "code",
   "execution_count": 8,
   "id": "95961921-daab-4531-bd5b-6d9defa4df29",
   "metadata": {},
   "outputs": [
    {
     "name": "stdout",
     "output_type": "stream",
     "text": [
      "+--------+------+----+------------------+-----+-------+------+-------+-----------+-----+\n",
      "|survived|   sex| age|n_siblings_spouses|parch|   fare| class|   deck|embark_town|alone|\n",
      "+--------+------+----+------------------+-----+-------+------+-------+-----------+-----+\n",
      "|       0|  male|22.0|                 1|    0|   7.25| Third|unknown|Southampton|    n|\n",
      "|       1|female|38.0|                 1|    0|71.2833| First|      C|  Cherbourg|    n|\n",
      "|       1|female|26.0|                 0|    0|  7.925| Third|unknown|Southampton|    y|\n",
      "|       1|female|35.0|                 1|    0|   53.1| First|      C|Southampton|    n|\n",
      "|       0|  male|28.0|                 0|    0| 8.4583| Third|unknown| Queenstown|    y|\n",
      "|       0|  male| 2.0|                 3|    1| 21.075| Third|unknown|Southampton|    n|\n",
      "|       1|female|27.0|                 0|    2|11.1333| Third|unknown|Southampton|    n|\n",
      "|       1|female|14.0|                 1|    0|30.0708|Second|unknown|  Cherbourg|    n|\n",
      "|       1|female| 4.0|                 1|    1|   16.7| Third|      G|Southampton|    n|\n",
      "|       0|  male|20.0|                 0|    0|   8.05| Third|unknown|Southampton|    y|\n",
      "|       0|  male|39.0|                 1|    5| 31.275| Third|unknown|Southampton|    n|\n",
      "|       0|female|14.0|                 0|    0| 7.8542| Third|unknown|Southampton|    y|\n",
      "|       0|  male| 2.0|                 4|    1| 29.125| Third|unknown| Queenstown|    n|\n",
      "|       1|  male|28.0|                 0|    0|   13.0|Second|unknown|Southampton|    y|\n",
      "|       0|female|31.0|                 1|    0|   18.0| Third|unknown|Southampton|    n|\n",
      "|       1|female|28.0|                 0|    0|  7.225| Third|unknown|  Cherbourg|    y|\n",
      "|       0|  male|35.0|                 0|    0|   26.0|Second|unknown|Southampton|    y|\n",
      "|       1|  male|28.0|                 0|    0|   35.5| First|      A|Southampton|    y|\n",
      "|       1|female|38.0|                 1|    5|31.3875| Third|unknown|Southampton|    n|\n",
      "|       0|  male|28.0|                 0|    0|  7.225| Third|unknown|  Cherbourg|    y|\n",
      "+--------+------+----+------------------+-----+-------+------+-------+-----------+-----+\n",
      "only showing top 20 rows\n",
      "\n"
     ]
    }
   ],
   "source": [
    "df = spark.read.option(\"header\", \"true\").csv(\"train.csv\")\n",
    "df.show()"
   ]
  },
  {
   "cell_type": "code",
   "execution_count": 9,
   "id": "13516fb5-622b-4f1b-aaee-6174d29116a3",
   "metadata": {},
   "outputs": [],
   "source": [
    "import pyspark.sql.functions as F\n",
    "from pyspark.sql.functions import col"
   ]
  },
  {
   "cell_type": "code",
   "execution_count": 10,
   "id": "5b19dc46-a603-4073-8da6-a78870950ada",
   "metadata": {},
   "outputs": [
    {
     "data": {
      "text/plain": [
       "DataFrame[survived: string, sex: string, age: int, n_siblings_spouses: string, parch: string, fare: string, class: string, deck: string, embark_town: string, alone: string]"
      ]
     },
     "execution_count": 10,
     "metadata": {},
     "output_type": "execute_result"
    }
   ],
   "source": [
    "df.withColumn(\"age\", col('age').cast(\"int\"))"
   ]
  },
  {
   "cell_type": "code",
   "execution_count": 12,
   "id": "47d2f3e6-8831-41da-8fe3-23ecd1a57bf2",
   "metadata": {},
   "outputs": [
    {
     "data": {
      "text/plain": [
       "627"
      ]
     },
     "execution_count": 12,
     "metadata": {},
     "output_type": "execute_result"
    }
   ],
   "source": [
    "# Сколько строк в таблице ?\n",
    "df.count()"
   ]
  },
  {
   "cell_type": "code",
   "execution_count": 61,
   "id": "7a42e9a8-301b-4991-9010-8fe2e3de9de2",
   "metadata": {},
   "outputs": [
    {
     "name": "stdout",
     "output_type": "stream",
     "text": [
      "+------+----------+\n",
      "|   sex|count(age)|\n",
      "+------+----------+\n",
      "|female|       217|\n",
      "|  male|       410|\n",
      "+------+----------+\n",
      "\n"
     ]
    }
   ],
   "source": [
    "# Сколько строк, где пол указан мужской\n",
    "# df.select(F.count('sex == male'))\n",
    "# df.agg(F.count(F.col('sex' == \"male\"))).show()\n",
    "df.groupby(col(\"sex\")).agg(F.count(col('age'))).show()"
   ]
  },
  {
   "cell_type": "code",
   "execution_count": 80,
   "id": "36d5c662-700e-41a6-b12c-521de1a168dd",
   "metadata": {},
   "outputs": [
    {
     "name": "stdout",
     "output_type": "stream",
     "text": [
      "+------+----------+\n",
      "|   sex|count(age)|\n",
      "+------+----------+\n",
      "|female|       169|\n",
      "|  male|        74|\n",
      "+------+----------+\n",
      "\n"
     ]
    }
   ],
   "source": [
    "# С помощью одной команды посчитать количество выживших мужчин и женщин\n",
    "surv = df.filter(F.col(\"survived\") == 1)\n",
    "# surv.show()\n",
    "surv.groupby(col(\"sex\")).agg(F.count(col('age'))).show()"
   ]
  },
  {
   "cell_type": "code",
   "execution_count": null,
   "id": "123bef7c-37e1-4f1f-af16-4846b13f0afb",
   "metadata": {},
   "outputs": [],
   "source": []
  },
  {
   "cell_type": "code",
   "execution_count": 74,
   "id": "c6417ead-1068-437b-bd37-df613a2b6748",
   "metadata": {},
   "outputs": [
    {
     "name": "stdout",
     "output_type": "stream",
     "text": [
      "+------+------------------+\n",
      "| class|          avg(age)|\n",
      "+------+------------------+\n",
      "| First|37.056603773584904|\n",
      "|Second| 29.93566929133858|\n",
      "| Third|26.055718475073313|\n",
      "+------+------------------+\n",
      "\n"
     ]
    }
   ],
   "source": [
    "# С помощью одной команды определить средний возраст пассажиров каждого из Pclass`ов\n",
    "df.groupby(col(\"class\")).agg(F.mean(col('age'))).show()"
   ]
  },
  {
   "cell_type": "code",
   "execution_count": null,
   "id": "8f30b2ae-cfc1-4fc7-b9f6-9dcbd7c091f6",
   "metadata": {},
   "outputs": [],
   "source": []
  }
 ],
 "metadata": {
  "kernelspec": {
   "display_name": "Python 3 (ipykernel)",
   "language": "python",
   "name": "python3"
  },
  "language_info": {
   "codemirror_mode": {
    "name": "ipython",
    "version": 3
   },
   "file_extension": ".py",
   "mimetype": "text/x-python",
   "name": "python",
   "nbconvert_exporter": "python",
   "pygments_lexer": "ipython3",
   "version": "3.11.6"
  }
 },
 "nbformat": 4,
 "nbformat_minor": 5
}
